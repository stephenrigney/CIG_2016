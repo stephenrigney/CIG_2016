{
 "cells": [
  {
   "cell_type": "markdown",
   "metadata": {},
   "source": [
    "## Drawing Dublin Electoral Districts\n",
    "\n",
    "This is sticking closely to [this blogpost](http://sensitivecities.com/so-youd-like-to-make-a-map-using-python-EN.html#.Vyj72Z6YreQ) "
   ]
  },
  {
   "cell_type": "code",
   "execution_count": 9,
   "metadata": {
    "collapsed": false
   },
   "outputs": [],
   "source": [
    "import pandas as pd\n",
    "import numpy as np\n",
    "import matplotlib.pyplot as plt\n",
    "import matplotlib.cm as cm\n",
    "from matplotlib.colors import Normalize\n",
    "from matplotlib.collections import PatchCollection\n",
    "from mpl_toolkits.basemap import Basemap\n",
    "from shapely.geometry import Point, Polygon, MultiPoint, MultiPolygon\n",
    "from shapely.prepared import prep\n",
    "from pysal.esda.mapclassify import Natural_Breaks as nb\n",
    "from descartes import PolygonPatch\n",
    "import fiona\n",
    "from itertools import chain\n",
    "import matplotlib\n",
    "import geopandas as gp"
   ]
  },
  {
   "cell_type": "code",
   "execution_count": 282,
   "metadata": {
    "collapsed": true
   },
   "outputs": [],
   "source": [
    "import re"
   ]
  },
  {
   "cell_type": "code",
   "execution_count": 2,
   "metadata": {
    "collapsed": true
   },
   "outputs": [],
   "source": [
    "%matplotlib inline"
   ]
  },
  {
   "cell_type": "code",
   "execution_count": 3,
   "metadata": {
    "collapsed": false
   },
   "outputs": [
    {
     "name": "stdout",
     "output_type": "stream",
     "text": [
      "(-6.386966935318682, 53.29888263371935, -6.113090271214344, 53.41099255823912)\n"
     ]
    }
   ],
   "source": [
    "shp = fiona.open('../data/interim/DublinDED_2011/dublin_ed.shp')\n",
    "bds = shp.bounds\n",
    "shp.close()\n",
    "extra = 0.01\n",
    "ll = (bds[0], bds[1])\n",
    "ur = (bds[2], bds[3])\n",
    "coords = list(chain(ll, ur))\n",
    "w, h = coords[2] - coords[0], coords[3] - coords[1]\n",
    "print(bds)"
   ]
  },
  {
   "cell_type": "code",
   "execution_count": 4,
   "metadata": {
    "collapsed": false
   },
   "outputs": [
    {
     "data": {
      "text/plain": [
       "(162,\n",
       " 5,\n",
       " [-6.386966935318682, 53.29888263371935, 0.0, 0.0],\n",
       " [-6.113090271214344, 53.41099255823912, 0.0, 0.0],\n",
       " <matplotlib.collections.LineCollection at 0x7f3bb2bde898>)"
      ]
     },
     "execution_count": 4,
     "metadata": {},
     "output_type": "execute_result"
    },
    {
     "data": {
      "image/png": "[encoded data removed]",
      "text/plain": [
       "<matplotlib.figure.Figure at 0x7f3bb29c8eb8>"
      ]
     },
     "metadata": {},
     "output_type": "display_data"
    }
   ],
   "source": [
    "m = Basemap(\n",
    "    projection='tmerc',\n",
    "    lon_0=-2.,\n",
    "    lat_0=49.,\n",
    "    ellps = 'WGS84',\n",
    "    llcrnrlon=coords[0] - extra * w,\n",
    "    llcrnrlat=coords[1] - extra + 0.01 * h,\n",
    "    urcrnrlon=coords[2] + extra * w,\n",
    "    urcrnrlat=coords[3] + extra + 0.01 * h,\n",
    "    lat_ts=0,\n",
    "    resolution='i',\n",
    "    suppress_ticks=True)\n",
    "m.readshapefile(\n",
    "    '../data/interim/DublinDED_2011/dublin_ed',\n",
    "    'dublin',\n",
    "    color='none',\n",
    "    zorder=2)"
   ]
  },
  {
   "cell_type": "code",
   "execution_count": 25,
   "metadata": {
    "collapsed": false
   },
   "outputs": [],
   "source": [
    "# set up a map dataframe\n",
    "df_map = pd.DataFrame({\n",
    "    'geometry': [Polygon(xy) for xy in m.dublin],\n",
    "    'ed_name': [ed['EDNAME'] for ed in m.dublin_info],\n",
    "    'geogid': [ed['GEOGID'] for ed in m.dublin_info],\n",
    "    'osied': [ed['OSIED'] for ed in m.dublin_info],\n",
    "    'total_area': [ed['TOTAL_AREA'] for ed in m.dublin_info]})\n",
    "df_map.set_index(\"geogid\")   \n",
    "df_map.to_pickle(\"../data/interim/dublin_ed_basemap.pickle\")"
   ]
  },
  {
   "cell_type": "code",
   "execution_count": 363,
   "metadata": {
    "collapsed": false
   },
   "outputs": [],
   "source": [
    "#save map as shapefile\n",
    "gp_map = gp.GeoDataFrame(df_map)\n",
    "gp_map.merge(un_df[['geogid', 'ed_name']], how=\"right\")\n",
    "gp_map.to_file('../data/interim/DublinDED/dublin_ed_test.shp')"
   ]
  },
  {
   "cell_type": "code",
   "execution_count": 70,
   "metadata": {
    "collapsed": false
   },
   "outputs": [],
   "source": [
    "tenure_df = pd.read_json(\"../data/interim/ten_71_81_91_02_11.json\")\n",
    "#convert \"year\" column from int64 to string - allows more clear labelling of axes\n",
    "tenure_df['year'] = tenure_df['year'].astype(str)\n",
    "tenure_df = tenure_df.sort_values('year')\n",
    "tenure_df.rename(columns={\"area\": \"ed_name\"}, inplace=True)\n",
    "tenure_df.to_pickle(\"../data/interim/dublin_ed_tenures_1971-2011.pickle\")"
   ]
  },
  {
   "cell_type": "code",
   "execution_count": 114,
   "metadata": {
    "collapsed": false
   },
   "outputs": [],
   "source": [
    "#Pull out dataframes for year and tenure type\n",
    "def dataframe_by_year(field):\n",
    "    for year in tenure_df.year.unique():\n",
    "        t_df = tenure_df[(tenure_df['year']==year)&(tenure_df['geogid'].str.startswith(\"E\"))][['geogid', field, \"ed_name\", \"total_units\", \"year\"]]\n",
    "        t_df.set_index(\"geogid\", inplace=True)\n",
    "        t_df['pc_{}'.format(field)] = t_df[field]/t_df['total_units']\n",
    "        try:\n",
    "            print(field, t_df.loc[t_df['pc_{}'.format(field)].idxmax()][['year', 'ed_name', 'pc_{}'.format(field)]].values)\n",
    "            t_df.to_pickle(\"../data/interim/{}_dublin_ed_{}.pickle\".format(field, year))\n",
    "        except TypeError:\n",
    "            print(field, year)  "
   ]
  },
  {
   "cell_type": "code",
   "execution_count": null,
   "metadata": {
    "collapsed": false
   },
   "outputs": [],
   "source": [
    "for k in tenure_df.keys():\n",
    "    if k.endswith(\"units\") and not k.startswith(\"total\"):\n",
    "        dataframe_by_year(k)"
   ]
  },
  {
   "cell_type": "code",
   "execution_count": 207,
   "metadata": {
    "collapsed": false
   },
   "outputs": [
    {
     "data": {
      "text/html": [
       "<div>\n",
       "<table border=\"1\" class=\"dataframe\">\n",
       "  <thead>\n",
       "    <tr style=\"text-align: right;\">\n",
       "      <th></th>\n",
       "      <th>geogid</th>\n",
       "      <th>owner_no_mortg_units</th>\n",
       "      <th>ed_name</th>\n",
       "      <th>total_units</th>\n",
       "      <th>year</th>\n",
       "      <th>pc_owner_no_mortg_units</th>\n",
       "    </tr>\n",
       "  </thead>\n",
       "  <tbody>\n",
       "    <tr>\n",
       "      <th>719</th>\n",
       "      <td>E02109</td>\n",
       "      <td>156.0</td>\n",
       "      <td>Kilmainham B</td>\n",
       "      <td>1039</td>\n",
       "      <td>2011</td>\n",
       "      <td>0.150144</td>\n",
       "    </tr>\n",
       "    <tr>\n",
       "      <th>718</th>\n",
       "      <td>E02108</td>\n",
       "      <td>308.0</td>\n",
       "      <td>Kilmainham A</td>\n",
       "      <td>1108</td>\n",
       "      <td>2011</td>\n",
       "      <td>0.277978</td>\n",
       "    </tr>\n",
       "  </tbody>\n",
       "</table>\n",
       "</div>"
      ],
      "text/plain": [
       "     geogid  owner_no_mortg_units       ed_name  total_units  year  \\\n",
       "719  E02109                 156.0  Kilmainham B         1039  2011   \n",
       "718  E02108                 308.0  Kilmainham A         1108  2011   \n",
       "\n",
       "     pc_owner_no_mortg_units  \n",
       "719                 0.150144  \n",
       "718                 0.277978  "
      ]
     },
     "execution_count": 207,
     "metadata": {},
     "output_type": "execute_result"
    }
   ],
   "source": [
    "#2011 has no owner_occ data\n",
    "mort2011_df = pd.read_pickle(\"../data/processed/tenure_pickles/owner_mortg_units_dublin_ed_2011.pickle\")\n",
    "#mort2011_df.set_index(\"geogid\", inplace=True)\n",
    "no_mort2011_df = pd.read_pickle(\"../data/processed/tenure_pickles/owner_no_mortg_units_dublin_ed_2011.pickle\")\n",
    "#no_mort2011_df.set_index(\"geogid\", inplace=True)\n",
    "no_mort2011_df.head(2)"
   ]
  },
  {
   "cell_type": "code",
   "execution_count": 209,
   "metadata": {
    "collapsed": false
   },
   "outputs": [
    {
     "data": {
      "text/html": [
       "<div>\n",
       "<table border=\"1\" class=\"dataframe\">\n",
       "  <thead>\n",
       "    <tr style=\"text-align: right;\">\n",
       "      <th></th>\n",
       "      <th>owner_no_mortg_units</th>\n",
       "      <th>ed_name</th>\n",
       "      <th>total_units</th>\n",
       "      <th>year</th>\n",
       "      <th>pc_owner_no_mortg_units</th>\n",
       "    </tr>\n",
       "    <tr>\n",
       "      <th>geogid</th>\n",
       "      <th></th>\n",
       "      <th></th>\n",
       "      <th></th>\n",
       "      <th></th>\n",
       "      <th></th>\n",
       "    </tr>\n",
       "  </thead>\n",
       "  <tbody>\n",
       "    <tr>\n",
       "      <th>E02109</th>\n",
       "      <td>156.0</td>\n",
       "      <td>Kilmainham B</td>\n",
       "      <td>1039</td>\n",
       "      <td>2011</td>\n",
       "      <td>0.150144</td>\n",
       "    </tr>\n",
       "    <tr>\n",
       "      <th>E02108</th>\n",
       "      <td>308.0</td>\n",
       "      <td>Kilmainham A</td>\n",
       "      <td>1108</td>\n",
       "      <td>2011</td>\n",
       "      <td>0.277978</td>\n",
       "    </tr>\n",
       "  </tbody>\n",
       "</table>\n",
       "</div>"
      ],
      "text/plain": [
       "        owner_no_mortg_units       ed_name  total_units  year  \\\n",
       "geogid                                                          \n",
       "E02109                 156.0  Kilmainham B         1039  2011   \n",
       "E02108                 308.0  Kilmainham A         1108  2011   \n",
       "\n",
       "        pc_owner_no_mortg_units  \n",
       "geogid                           \n",
       "E02109                 0.150144  \n",
       "E02108                 0.277978  "
      ]
     },
     "execution_count": 209,
     "metadata": {},
     "output_type": "execute_result"
    }
   ],
   "source": [
    "#2011 has no owner_occ data\n",
    "mort2011_df = pd.read_pickle(\"../data/processed/tenure_pickles/owner_mortg_units_dublin_ed_2011.pickle\")\n",
    "no_mort2011_df = pd.read_pickle(\"../data/processed/tenure_pickles/owner_no_mortg_units_dublin_ed_2011.pickle\")\n",
    "no_mort2011_df.head(2)\n",
    "own2011 = mort2011_df[['geogid', 'ed_name', 'year', 'total_units']]\n",
    "own2011.set_index('geogid', inplace=True)\n",
    "no_mort2011_df.set_index(\"geogid\", inplace=True)\n",
    "mort2011_df.set_index(\"geogid\", inplace=True)\n",
    "\n",
    "no_mort2011_df.head(2)"
   ]
  },
  {
   "cell_type": "code",
   "execution_count": 213,
   "metadata": {
    "collapsed": false
   },
   "outputs": [],
   "source": [
    "own2011['owner_occ_units'] = mort2011_df['owner_mortg_units'] + no_mort2011_df['owner_no_mortg_units']\n",
    "own2011['total_units'] = mort2011_df['total_units'] + no_mort2011_df['total_units']\n",
    "own2011['pc_owner_occ_units'] = own2011['owner_occ_units']/own2011['total_units']\n",
    "own2011.to_pickle(\"../data/processed/tenure_pickles/owner_occ_units_dublin_ed_2011.pickle\")"
   ]
  },
  {
   "cell_type": "code",
   "execution_count": 214,
   "metadata": {
    "collapsed": false
   },
   "outputs": [
    {
     "data": {
      "text/html": [
       "<div>\n",
       "<table border=\"1\" class=\"dataframe\">\n",
       "  <thead>\n",
       "    <tr style=\"text-align: right;\">\n",
       "      <th></th>\n",
       "      <th>ed_name</th>\n",
       "      <th>year</th>\n",
       "      <th>total_units</th>\n",
       "      <th>owner_occ_units</th>\n",
       "      <th>pc_owner_occ_units</th>\n",
       "    </tr>\n",
       "    <tr>\n",
       "      <th>geogid</th>\n",
       "      <th></th>\n",
       "      <th></th>\n",
       "      <th></th>\n",
       "      <th></th>\n",
       "      <th></th>\n",
       "    </tr>\n",
       "  </thead>\n",
       "  <tbody>\n",
       "    <tr>\n",
       "      <th>E02109</th>\n",
       "      <td>Kilmainham B</td>\n",
       "      <td>2011</td>\n",
       "      <td>2078</td>\n",
       "      <td>453.0</td>\n",
       "      <td>0.217998</td>\n",
       "    </tr>\n",
       "    <tr>\n",
       "      <th>E02108</th>\n",
       "      <td>Kilmainham A</td>\n",
       "      <td>2011</td>\n",
       "      <td>2216</td>\n",
       "      <td>743.0</td>\n",
       "      <td>0.335289</td>\n",
       "    </tr>\n",
       "    <tr>\n",
       "      <th>E02120</th>\n",
       "      <td>Merchants Quay B</td>\n",
       "      <td>2011</td>\n",
       "      <td>3496</td>\n",
       "      <td>429.0</td>\n",
       "      <td>0.122712</td>\n",
       "    </tr>\n",
       "    <tr>\n",
       "      <th>E02106</th>\n",
       "      <td>Inchicore A</td>\n",
       "      <td>2011</td>\n",
       "      <td>1950</td>\n",
       "      <td>603.0</td>\n",
       "      <td>0.309231</td>\n",
       "    </tr>\n",
       "    <tr>\n",
       "      <th>E02110</th>\n",
       "      <td>Kilmainham C</td>\n",
       "      <td>2011</td>\n",
       "      <td>3700</td>\n",
       "      <td>892.0</td>\n",
       "      <td>0.241081</td>\n",
       "    </tr>\n",
       "  </tbody>\n",
       "</table>\n",
       "</div>"
      ],
      "text/plain": [
       "                 ed_name  year  total_units  owner_occ_units  \\\n",
       "geogid                                                         \n",
       "E02109      Kilmainham B  2011         2078            453.0   \n",
       "E02108      Kilmainham A  2011         2216            743.0   \n",
       "E02120  Merchants Quay B  2011         3496            429.0   \n",
       "E02106       Inchicore A  2011         1950            603.0   \n",
       "E02110      Kilmainham C  2011         3700            892.0   \n",
       "\n",
       "        pc_owner_occ_units  \n",
       "geogid                      \n",
       "E02109            0.217998  \n",
       "E02108            0.335289  \n",
       "E02120            0.122712  \n",
       "E02106            0.309231  \n",
       "E02110            0.241081  "
      ]
     },
     "execution_count": 214,
     "metadata": {},
     "output_type": "execute_result"
    }
   ],
   "source": [
    "own2011.head()"
   ]
  },
  {
   "cell_type": "code",
   "execution_count": 116,
   "metadata": {
    "collapsed": true
   },
   "outputs": [],
   "source": [
    "# Convenience functions for working with colour ramps and bars\n",
    "def colorbar_index(ncolors, cmap, labels=None, **kwargs):\n",
    "    \"\"\"\n",
    "    This is a convenience function to stop you making off-by-one errors\n",
    "    Takes a standard colour ramp, and discretizes it,\n",
    "    then draws a colour bar with correctly aligned labels\n",
    "    \"\"\"\n",
    "    cmap = cmap_discretize(cmap, ncolors)\n",
    "    mappable = cm.ScalarMappable(cmap=cmap)\n",
    "    mappable.set_array([])\n",
    "    mappable.set_clim(-0.5, ncolors+0.5)\n",
    "    colorbar = plt.colorbar(mappable, **kwargs)\n",
    "    colorbar.set_ticks(np.linspace(0, ncolors, ncolors))\n",
    "    colorbar.set_ticklabels(range(ncolors))\n",
    "    if labels:\n",
    "        colorbar.set_ticklabels(labels)\n",
    "    return colorbar\n",
    "\n",
    "def cmap_discretize(cmap, N):\n",
    "    \"\"\"\n",
    "    Return a discrete colormap from the continuous colormap cmap.\n",
    "\n",
    "        cmap: colormap instance, eg. cm.jet. \n",
    "        N: number of colors.\n",
    "\n",
    "    Example\n",
    "        x = resize(arange(100), (5,100))\n",
    "        djet = cmap_discretize(cm.jet, 5)\n",
    "        imshow(x, cmap=djet)\n",
    "\n",
    "    \"\"\"\n",
    "    if type(cmap) == str:\n",
    "        cmap = get_cmap(cmap)\n",
    "    colors_i = np.concatenate((np.linspace(0, 1., N), (0., 0., 0., 0.)))\n",
    "    colors_rgba = cmap(colors_i)\n",
    "    indices = np.linspace(0, 1., N + 1)\n",
    "    cdict = {}\n",
    "    for ki, key in enumerate(('red', 'green', 'blue')):\n",
    "        cdict[key] = [(indices[i], colors_rgba[i - 1, ki], colors_rgba[i, ki]) for i in range(N + 1)]\n",
    "    return matplotlib.colors.LinearSegmentedColormap(cmap.name + \"_%d\" % N, cdict, 1024)"
   ]
  },
  {
   "cell_type": "code",
   "execution_count": null,
   "metadata": {
    "collapsed": false
   },
   "outputs": [],
   "source": [
    "import os\n",
    "df_map = pd.read_pickle(\"../data/processed/dublin_ed_basemap.pickle\")\n",
    "basedir = \"../data/processed/tenure_pickles\"\n",
    "for file in sorted(os.listdir(basedir))[:1]:\n",
    "    #print(file)\n",
    "    field = \"pc_\"+file.split(\"_dublin\")[0]\n",
    "    year = file.split(\"_\")[-1].replace(\".pickle\", \"\")\n",
    "    print(field, year)\n",
    "    d_df = pd.read_pickle(os.path.join(basedir, file))\n",
    "    jk_map, jenks_labels = jenks_breaks(df_map.merge(d_df), field)\n",
    "    print(jenks_labels)\n",
    "    highest = [(value['ed_name'], \n",
    "               value[field]*100) for _, value in df_map[(df_map['jenks_bins'] == 4)][:5].sort_index().iterrows()]\n",
    "    print(highest)\n",
    "    #plot_map(jk_map, field, jenks_labels, year)\n",
    "    \n",
    "#(\"../data/interim/rent_unfurn_units_dublin_ed_1971.pickle\")\n",
    "#df_map = pd.read_pickle(\"../data/interim/dublin_ed_basemap.pickle\")\n",
    "#df_map = df_map.merge(d_df)\n",
    "#df_map.head(2)"
   ]
  },
  {
   "cell_type": "code",
   "execution_count": 361,
   "metadata": {
    "collapsed": false
   },
   "outputs": [
    {
     "data": {
      "text/html": [
       "<div>\n",
       "<table border=\"1\" class=\"dataframe\">\n",
       "  <thead>\n",
       "    <tr style=\"text-align: right;\">\n",
       "      <th></th>\n",
       "      <th>geogid</th>\n",
       "      <th>rent_unfurn_units</th>\n",
       "      <th>ed_name</th>\n",
       "      <th>total_units</th>\n",
       "      <th>year</th>\n",
       "      <th>pc_rent_unfurn_units</th>\n",
       "    </tr>\n",
       "  </thead>\n",
       "  <tbody>\n",
       "    <tr>\n",
       "      <th>609</th>\n",
       "      <td>E02161</td>\n",
       "      <td>727.0</td>\n",
       "      <td>Wood Quay A</td>\n",
       "      <td>927</td>\n",
       "      <td>1971</td>\n",
       "      <td>0.78425</td>\n",
       "    </tr>\n",
       "  </tbody>\n",
       "</table>\n",
       "</div>"
      ],
      "text/plain": [
       "     geogid  rent_unfurn_units      ed_name  total_units  year  \\\n",
       "609  E02161              727.0  Wood Quay A          927  1971   \n",
       "\n",
       "     pc_rent_unfurn_units  \n",
       "609               0.78425  "
      ]
     },
     "execution_count": 361,
     "metadata": {},
     "output_type": "execute_result"
    }
   ],
   "source": [
    "#Wood Quay A consistently returns the highest percentage of unfurnished units - because of Iveagh Trust flats\n",
    "un_df = pd.read_pickle(\"../data/processed/tenure_pickles/rent_unfurn_units_dublin_ed_1971.pickle\")\n",
    "un_df[un_df['ed_name']==\"Wood Quay A\"]"
   ]
  },
  {
   "cell_type": "code",
   "execution_count": 295,
   "metadata": {
    "collapsed": false
   },
   "outputs": [],
   "source": [
    "#jk_map['status'] = jk_map['status'])\n",
    "jk_map['upper'] = [int(re.search(\", (\\d{2,3})]$\", v).group(1)) for v in jk_map['status'].fillna(\"(0, 20]\")]\n",
    "#[v  for v in jk_map['status'].unique()]"
   ]
  },
  {
   "cell_type": "code",
   "execution_count": 352,
   "metadata": {
    "collapsed": false
   },
   "outputs": [
    {
     "data": {
      "text/plain": [
       "['<= 20% of units (41 EDs)',\n",
       " '20-40% of units (16 EDs)',\n",
       " '40-60% of units (9 EDs)',\n",
       " '60-80% of units (19 EDs)',\n",
       " '80-100% of units (2 EDs)']"
      ]
     },
     "execution_count": 352,
     "metadata": {},
     "output_type": "execute_result"
    }
   ],
   "source": [
    "def fixed_breaks(df_map, field):\n",
    "    bins = pd.cut(df_map[field]*100, bins=[-1, 20, 40, 60, 80, 100])\n",
    "    fb = pd.DataFrame({'bins': bins}, index=df_map[df_map[field].notnull()].index)\n",
    "    #print(fb)\n",
    "    df_map['bins'] = [int(re.search(\", (\\d{2,3})]$\", v).group(1)) for v in fb['bins']]\n",
    "    uppers = df_map.groupby('status')[field].count()\n",
    "    fixed_labels = [\"{}-{}% of units ({} EDs)\".format(upper_bound - 20, upper_bound, count) for upper_bound, count in zip(uppers.keys(), uppers.values)]\n",
    "    fixed_labels[0] = fixed_labels[0].replace(\"0-\", \"<= \")\n",
    "    return df_map, fixed_labels\n",
    "nmap, labels = fixed_breaks(jk_map, field)\n",
    "labels"
   ]
  },
  {
   "cell_type": "code",
   "execution_count": 192,
   "metadata": {
    "collapsed": false
   },
   "outputs": [
    {
     "name": "stdout",
     "output_type": "stream",
     "text": [
      "Ushers B (88%)\n",
      "Kimmage A (86%)\n",
      "Crumlin E (79%)\n",
      "Kimmage B (79%)\n",
      "Kilmainham A (78%)\n"
     ]
    }
   ],
   "source": [
    "highest = '\\n'.join(\"{} ({:0.0f}%)\".format(value['ed_name'], value[field]*100) for _, value in jk_map.sort_values(field, ascending=False)[:5].iterrows())\n",
    "print(highest)"
   ]
  },
  {
   "cell_type": "code",
   "execution_count": 146,
   "metadata": {
    "collapsed": false
   },
   "outputs": [],
   "source": [
    "def jenks_breaks(df_map, field):\n",
    "    # Calculate Jenks natural breaks for density\n",
    "    breaks = nb(\n",
    "        df_map[df_map[field].notnull()][field].values,\n",
    "        initial=300,\n",
    "        k=5)\n",
    "    # the notnull method lets us match indices when joining\n",
    "    jb = pd.DataFrame({'jenks_bins': breaks.yb}, index=df_map[df_map[field].notnull()].index)\n",
    "    df_map = df_map.join(jb)\n",
    "    df_map.jenks_bins.fillna(-1, inplace=True)\n",
    "\n",
    "    jenks_labels = [\"up to %0.f%% (%s EDs)\" % (b*100, c) for b, c in zip(\n",
    "        breaks.bins, breaks.counts)]\n",
    "    #jenks_labels.insert(0, 'No plaques (%s wards)' % len(df_map[df_map['density_km'].isnull()]))\n",
    "    return df_map, jenks_labels"
   ]
  },
  {
   "cell_type": "code",
   "execution_count": 151,
   "metadata": {
    "collapsed": false
   },
   "outputs": [],
   "source": [
    "def plot_map(df_map, field, labels, year):\n",
    "    plt.clf()\n",
    "    fig = plt.figure()\n",
    "    ax = fig.add_subplot(111, axisbg='w', frame_on=False)\n",
    "\n",
    "    # use a blue colour ramp - we'll be converting it to a map using cmap()\n",
    "    cmap = plt.get_cmap('Blues')\n",
    "    # draw wards with grey outlines\n",
    "    df_map['patches'] = df_map['geometry'].map(lambda x: PolygonPatch(x, ec='#555555', lw=.2, alpha=1., zorder=4))\n",
    "    pc = PatchCollection(df_map['patches'], match_original=True)\n",
    "    # impose our colour map onto the patch collection\n",
    "    norm = Normalize()\n",
    "    pc.set_facecolor(cmap(norm(df_map['bins'].values)))\n",
    "    ax.add_collection(pc)\n",
    "\n",
    "    # Add a colour bar\n",
    "    cb = colorbar_index(ncolors=len(jenks_labels), cmap=cmap, shrink=0.4, labels=jenks_labels)\n",
    "    cb.ax.tick_params(labelsize=12)\n",
    "    \n",
    "    field_label = field.replace(\"pc_\", \"\").replace(\"_\", \" \")\n",
    "\n",
    "    # Show highest densities, in descending order\n",
    "    highest = '\\n'.join(\n",
    "        \"{} ({:0.0f}%)\".format(value['ed_name'], value[field]*100) for _, value in df_map[(df_map['jenks_bins'] == 4)][:5].sort_index().iterrows())\n",
    "    highest = 'Highest EDs by percentile:\\n' + highest\n",
    "    # Subtraction is necessary for precise y coordinate alignment\n",
    "    details = cb.ax.text(\n",
    "        -1., 0 - 0.007,\n",
    "        highest,\n",
    "        ha='right', va='bottom',\n",
    "        size=16,\n",
    "        color='#555555')\n",
    "\n",
    "    '''\n",
    "    # Bin method, copyright and source data info\n",
    "    smallprint = ax.text(\n",
    "        0.9, 0,\n",
    "        'Classification method: natural breaks\\nContains Ordnance Survey data\\n$\\copyright$ Crown copyright and database right 2013\\nPlaque data from http://openplaques.org',\n",
    "        ha='right', va='bottom',\n",
    "        size=4,\n",
    "        color='#555555',\n",
    "        transform=ax.transAxes)\n",
    "        '''\n",
    "    # Draw a map scale\n",
    "    m.drawmapscale(\n",
    "        coords[0] + 0.05, coords[1] + 0.001,\n",
    "        coords[0], coords[1],\n",
    "        5.,\n",
    "        barstyle='fancy', labelstyle='simple',\n",
    "        fillcolor1='w', fillcolor2='#555555',\n",
    "        fontcolor='#555555',\n",
    "        zorder=5)\n",
    "    # this will set the image width to (a multiple of!) 722px at 100dpi\n",
    "    plt.tight_layout()\n",
    "    fig.set_size_inches(14.44*3, 10.5*3)\n",
    "    plt.title(\"Percentage of {}\\nby Dublin electoral division, 1981\".format(field_label), fontsize=30)\n",
    "    '''plt.savefig('../data/media/dublin_{}_{}.svg'.format(year, field), \n",
    "                format='svg', \n",
    "                dpi=100, \n",
    "                frameon=True, \n",
    "                bbox_inches='tight', \n",
    "                pad_inches=0.5, \n",
    "                facecolor='#F2F2F2')'''"
   ]
  },
  {
   "cell_type": "code",
   "execution_count": 24,
   "metadata": {
    "collapsed": false
   },
   "outputs": [
    {
     "data": {
      "text/plain": [
       "[0.894163,\n",
       " 0.349303,\n",
       " 0.354037,\n",
       " 0.484628,\n",
       " 0.555836,\n",
       " 0.992425,\n",
       " 0.433672,\n",
       " 0.946397,\n",
       " 0.663706,\n",
       " 0.773471]"
      ]
     },
     "execution_count": 24,
     "metadata": {},
     "output_type": "execute_result"
    }
   ],
   "source": [
    "[value['total_area'] for _, value in df_map[:10].sort_index().iterrows()]"
   ]
  },
  {
   "cell_type": "code",
   "execution_count": null,
   "metadata": {
    "collapsed": true
   },
   "outputs": [],
   "source": []
  }
 ],
 "metadata": {
  "kernelspec": {
   "display_name": "Python 3",
   "language": "python",
   "name": "python3"
  },
  "language_info": {
   "codemirror_mode": {
    "name": "ipython",
    "version": 3
   },
   "file_extension": ".py",
   "mimetype": "text/x-python",
   "name": "python",
   "nbconvert_exporter": "python",
   "pygments_lexer": "ipython3",
   "version": "3.4.3+"
  }
 },
 "nbformat": 4,
 "nbformat_minor": 0
}
